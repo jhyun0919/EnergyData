{
 "cells": [
  {
   "cell_type": "markdown",
   "metadata": {},
   "source": [
    "# Installation\n",
    "\n",
    "---"
   ]
  },
  {
   "cell_type": "markdown",
   "metadata": {},
   "source": [
    "---\n",
    "## 01. Install anaconda"
   ]
  },
  {
   "cell_type": "markdown",
   "metadata": {},
   "source": [
    "I recommend using [Anaconda](https://www.continuum.io/downloads), which bundles togther most of the required packages. Please download Anaconda for Python 2.7.x. This project does not currently support Python 3.\n",
    "\n",
    "* What is anaconda?\n",
    "    - Anaconda is an easy-to-install free package manager, environment manager, Python distribution, and collection of over 720 open source packages offering free community support.\n",
    "\n",
    "* Why we use anaconda?\n",
    "    - It is easy to use anaconda to create set of packages for distribution. So you can easily share your package including all its dependencies."
   ]
  },
  {
   "cell_type": "markdown",
   "metadata": {},
   "source": [
    "---\n",
    "## 02. Install git & clone repository to local"
   ]
  },
  {
   "cell_type": "markdown",
   "metadata": {},
   "source": [
    "### 02-01. Install git  \n",
    "```bash\n",
    "sudo apt-get install git\n",
    "```\n",
    "\n",
    "### 02-02. Download(clone) EnergyData-Analysis Toolkit\n",
    "```bash\n",
    "git clone https://github.com/jhyun0919/EnergyData.git\n",
    "```\n",
    "\n",
    "### 02-03. Fix global variable for repository-path\n",
    "* EnergyData/utils/GlobalParameter.py\n",
    "    - [repository_abs_path] = [download_path]/EnergyData/repository\n",
    "```python\n",
    "RepositoryPath = 'fix this blank with your [repository_abs_path]'\n",
    "```\n",
    "    "
   ]
  },
  {
   "cell_type": "markdown",
   "metadata": {},
   "source": [
    "---\n",
    "## 03. Set virtual environment for Energy Data Analysis"
   ]
  },
  {
   "cell_type": "markdown",
   "metadata": {},
   "source": [
    "### 03-01. Set virtual environment using conda-env\n",
    "\n",
    "* I recommands you to use conda-env to install an environment for EnergyData-Analysis toolkit, using environment.yml text file to define which packages need to be installed:\n",
    "    - [envirnment.yml](https://github.com/jhyun0919/EnergyData_jhyun/blob/master/environment.yml)\n",
    "\n",
    "```bash\n",
    "cd EnergyData\n",
    "conda env create\n",
    "source activate energydata-env\n",
    "```\n",
    "\n",
    "* If you have got an error message like \"Failed building wheel for gnureadline\", install gnureadline and try it again:\n",
    "\n",
    "```bash\n",
    "pip install gnureadline\n",
    "```"
   ]
  },
  {
   "cell_type": "markdown",
   "metadata": {},
   "source": [
    "---\n",
    "## 04. Install EnergyData Analysis Toolkit"
   ]
  },
  {
   "cell_type": "markdown",
   "metadata": {
    "collapsed": true
   },
   "source": [
    "* Install EnergyData Analysis Toolkit:\n",
    "```bash\n",
    "cd EnergyData\n",
    "python setup.py install\n",
    "```\n",
    "\n",
    "* When you are done, deavtivate energydata-env:\n",
    "```bash\n",
    "source deactivate\n",
    "```"
   ]
  },
  {
   "cell_type": "code",
   "execution_count": null,
   "metadata": {
    "collapsed": true
   },
   "outputs": [],
   "source": []
  }
 ],
 "metadata": {
  "kernelspec": {
   "display_name": "Python 2",
   "language": "python",
   "name": "python2"
  },
  "language_info": {
   "codemirror_mode": {
    "name": "ipython",
    "version": 2
   },
   "file_extension": ".py",
   "mimetype": "text/x-python",
   "name": "python",
   "nbconvert_exporter": "python",
   "pygments_lexer": "ipython2",
   "version": "2.7.12"
  }
 },
 "nbformat": 4,
 "nbformat_minor": 0
}
