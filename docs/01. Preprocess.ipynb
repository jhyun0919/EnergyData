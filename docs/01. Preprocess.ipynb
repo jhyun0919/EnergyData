{
 "cells": [
  {
   "cell_type": "markdown",
   "metadata": {},
   "source": [
    "# Preprocess\n",
    "\n",
    "---\n",
    "\n",
    "<img src=\"https://raw.githubusercontent.com/jhyun0919/EnergyData_jhyun/master/docs/images/blueprint_preprocess.jpg\" alt=\"Drawing\" style=\"width: 800px;\"/>\n",
    "\n",
    "## Abstract\n",
    "\n",
    "* To analyze and compare given sensor data, following conditions must be fulfilled.  \n",
    "  (각종 sensor data를 서로 비교&분석하기 위해서는 다음과 같은 조건이 만족되어야 함)\n",
    "         - data length(start ts ~ end ts) must be unified\n",
    "         - missing value data must be interpolated\n",
    "         - regular time stamp interval\n",
    "         - normalized value data\n",
    "         "
   ]
  },
  {
   "cell_type": "markdown",
   "metadata": {},
   "source": [
    "---\n",
    "# 01. Preprcess Process"
   ]
  },
  {
   "cell_type": "code",
   "execution_count": 1,
   "metadata": {
    "collapsed": true
   },
   "outputs": [],
   "source": [
    "from utils import Preprocess\n",
    "from utils import FileIO\n",
    "from utils import GlobalParameter\n",
    "from utils import Graph\n",
    "%matplotlib inline\n",
    "import os\n",
    "import math\n",
    "import pandas as pd"
   ]
  },
  {
   "cell_type": "markdown",
   "metadata": {},
   "source": [
    "---\n",
    "### 01-01. Check raw data"
   ]
  },
  {
   "cell_type": "code",
   "execution_count": 2,
   "metadata": {
    "collapsed": false
   },
   "outputs": [
    {
     "data": {
      "text/plain": [
       "'/Users/JH/Documents/GitHub/EnergyData_jhyun/repository/VTT/VTT_GW1_HA10_VM_EP_KV_K.bin'"
      ]
     },
     "execution_count": 2,
     "metadata": {},
     "output_type": "execute_result"
    }
   ],
   "source": [
    "file_name = 'VTT_GW1_HA10_VM_EP_KV_K.bin'\n",
    "sensor_data_path = os.path.join(GlobalParameter.RepositoryPath, 'VTT', file_name)\n",
    "sensor_data_path\n"
   ]
  },
  {
   "cell_type": "code",
   "execution_count": 3,
   "metadata": {
    "collapsed": false
   },
   "outputs": [
    {
     "data": {
      "text/plain": [
       "{'file_name': 'VTT_GW1_HA10_VM_EP_KV_K',\n",
       " 'ts': array([[datetime.datetime(2013, 5, 15, 10, 37, 23), 23, 37, ..., 2, 15, 5],\n",
       "        [datetime.datetime(2013, 5, 15, 10, 42, 30), 30, 42, ..., 2, 15, 5],\n",
       "        [datetime.datetime(2013, 5, 15, 10, 47, 30), 30, 47, ..., 2, 15, 5],\n",
       "        ..., \n",
       "        [datetime.datetime(2015, 6, 30, 0, 46, 32), 32, 46, ..., 1, 30, 6],\n",
       "        [datetime.datetime(2015, 6, 30, 0, 51, 32), 32, 51, ..., 1, 30, 6],\n",
       "        [datetime.datetime(2015, 6, 30, 0, 56, 32), 32, 56, ..., 1, 30, 6]], dtype=object),\n",
       " 'value': array([     0.,      0.,      0., ...,  24826.,  24826.,  24826.])}"
      ]
     },
     "execution_count": 3,
     "metadata": {},
     "output_type": "execute_result"
    }
   ],
   "source": [
    "data = FileIO.Load.unpickling(sensor_data_path)\n",
    "data"
   ]
  },
  {
   "cell_type": "code",
   "execution_count": 4,
   "metadata": {
    "collapsed": false
   },
   "outputs": [
    {
     "data": {
      "text/html": [
       "<div>\n",
       "<table border=\"1\" class=\"dataframe\">\n",
       "  <thead>\n",
       "    <tr style=\"text-align: right;\">\n",
       "      <th></th>\n",
       "      <th>ts</th>\n",
       "      <th>value</th>\n",
       "    </tr>\n",
       "  </thead>\n",
       "  <tbody>\n",
       "    <tr>\n",
       "      <th>0</th>\n",
       "      <td>2013-05-15 10:37:23</td>\n",
       "      <td>0.0</td>\n",
       "    </tr>\n",
       "    <tr>\n",
       "      <th>1</th>\n",
       "      <td>2013-05-15 10:42:30</td>\n",
       "      <td>0.0</td>\n",
       "    </tr>\n",
       "    <tr>\n",
       "      <th>2</th>\n",
       "      <td>2013-05-15 10:47:30</td>\n",
       "      <td>0.0</td>\n",
       "    </tr>\n",
       "    <tr>\n",
       "      <th>3</th>\n",
       "      <td>2013-05-15 10:52:30</td>\n",
       "      <td>0.0</td>\n",
       "    </tr>\n",
       "    <tr>\n",
       "      <th>4</th>\n",
       "      <td>2013-05-15 10:57:31</td>\n",
       "      <td>0.0</td>\n",
       "    </tr>\n",
       "    <tr>\n",
       "      <th>5</th>\n",
       "      <td>2013-05-15 11:02:41</td>\n",
       "      <td>0.0</td>\n",
       "    </tr>\n",
       "    <tr>\n",
       "      <th>6</th>\n",
       "      <td>2013-05-15 11:07:41</td>\n",
       "      <td>0.0</td>\n",
       "    </tr>\n",
       "    <tr>\n",
       "      <th>7</th>\n",
       "      <td>2013-05-15 11:12:41</td>\n",
       "      <td>0.0</td>\n",
       "    </tr>\n",
       "    <tr>\n",
       "      <th>8</th>\n",
       "      <td>2013-05-15 11:17:41</td>\n",
       "      <td>0.0</td>\n",
       "    </tr>\n",
       "    <tr>\n",
       "      <th>9</th>\n",
       "      <td>2013-05-15 11:22:41</td>\n",
       "      <td>0.0</td>\n",
       "    </tr>\n",
       "    <tr>\n",
       "      <th>10</th>\n",
       "      <td>2013-05-15 11:27:41</td>\n",
       "      <td>0.0</td>\n",
       "    </tr>\n",
       "    <tr>\n",
       "      <th>11</th>\n",
       "      <td>2013-05-15 11:32:51</td>\n",
       "      <td>0.0</td>\n",
       "    </tr>\n",
       "    <tr>\n",
       "      <th>12</th>\n",
       "      <td>2013-05-15 11:37:51</td>\n",
       "      <td>0.0</td>\n",
       "    </tr>\n",
       "    <tr>\n",
       "      <th>13</th>\n",
       "      <td>2013-05-15 11:42:51</td>\n",
       "      <td>0.0</td>\n",
       "    </tr>\n",
       "    <tr>\n",
       "      <th>14</th>\n",
       "      <td>2013-05-15 11:47:51</td>\n",
       "      <td>0.0</td>\n",
       "    </tr>\n",
       "    <tr>\n",
       "      <th>15</th>\n",
       "      <td>2013-05-15 11:52:51</td>\n",
       "      <td>0.0</td>\n",
       "    </tr>\n",
       "    <tr>\n",
       "      <th>16</th>\n",
       "      <td>2013-05-15 11:57:51</td>\n",
       "      <td>0.0</td>\n",
       "    </tr>\n",
       "    <tr>\n",
       "      <th>17</th>\n",
       "      <td>2013-05-15 12:02:51</td>\n",
       "      <td>0.0</td>\n",
       "    </tr>\n",
       "    <tr>\n",
       "      <th>18</th>\n",
       "      <td>2013-05-15 12:07:51</td>\n",
       "      <td>0.0</td>\n",
       "    </tr>\n",
       "    <tr>\n",
       "      <th>19</th>\n",
       "      <td>2013-05-15 12:12:51</td>\n",
       "      <td>0.0</td>\n",
       "    </tr>\n",
       "    <tr>\n",
       "      <th>20</th>\n",
       "      <td>2013-05-15 12:17:51</td>\n",
       "      <td>0.0</td>\n",
       "    </tr>\n",
       "    <tr>\n",
       "      <th>21</th>\n",
       "      <td>2013-05-15 12:22:51</td>\n",
       "      <td>0.0</td>\n",
       "    </tr>\n",
       "    <tr>\n",
       "      <th>22</th>\n",
       "      <td>2013-05-15 12:28:01</td>\n",
       "      <td>0.0</td>\n",
       "    </tr>\n",
       "    <tr>\n",
       "      <th>23</th>\n",
       "      <td>2013-05-15 12:33:01</td>\n",
       "      <td>0.0</td>\n",
       "    </tr>\n",
       "    <tr>\n",
       "      <th>24</th>\n",
       "      <td>2013-05-15 12:38:01</td>\n",
       "      <td>0.0</td>\n",
       "    </tr>\n",
       "    <tr>\n",
       "      <th>25</th>\n",
       "      <td>2013-05-15 12:43:01</td>\n",
       "      <td>0.0</td>\n",
       "    </tr>\n",
       "    <tr>\n",
       "      <th>26</th>\n",
       "      <td>2013-05-15 12:48:01</td>\n",
       "      <td>0.0</td>\n",
       "    </tr>\n",
       "    <tr>\n",
       "      <th>27</th>\n",
       "      <td>2013-05-15 12:53:01</td>\n",
       "      <td>0.0</td>\n",
       "    </tr>\n",
       "    <tr>\n",
       "      <th>28</th>\n",
       "      <td>2013-05-15 12:58:01</td>\n",
       "      <td>0.0</td>\n",
       "    </tr>\n",
       "    <tr>\n",
       "      <th>29</th>\n",
       "      <td>2013-05-15 13:03:01</td>\n",
       "      <td>0.0</td>\n",
       "    </tr>\n",
       "    <tr>\n",
       "      <th>...</th>\n",
       "      <td>...</td>\n",
       "      <td>...</td>\n",
       "    </tr>\n",
       "    <tr>\n",
       "      <th>190933</th>\n",
       "      <td>2015-06-29 22:30:57</td>\n",
       "      <td>24826.0</td>\n",
       "    </tr>\n",
       "    <tr>\n",
       "      <th>190934</th>\n",
       "      <td>2015-06-29 22:35:57</td>\n",
       "      <td>24826.0</td>\n",
       "    </tr>\n",
       "    <tr>\n",
       "      <th>190935</th>\n",
       "      <td>2015-06-29 22:40:58</td>\n",
       "      <td>24826.0</td>\n",
       "    </tr>\n",
       "    <tr>\n",
       "      <th>190936</th>\n",
       "      <td>2015-06-29 22:45:59</td>\n",
       "      <td>24826.0</td>\n",
       "    </tr>\n",
       "    <tr>\n",
       "      <th>190937</th>\n",
       "      <td>2015-06-29 22:50:59</td>\n",
       "      <td>24826.0</td>\n",
       "    </tr>\n",
       "    <tr>\n",
       "      <th>190938</th>\n",
       "      <td>2015-06-29 22:55:59</td>\n",
       "      <td>24826.0</td>\n",
       "    </tr>\n",
       "    <tr>\n",
       "      <th>190939</th>\n",
       "      <td>2015-06-29 23:00:59</td>\n",
       "      <td>24826.0</td>\n",
       "    </tr>\n",
       "    <tr>\n",
       "      <th>190940</th>\n",
       "      <td>2015-06-29 23:05:59</td>\n",
       "      <td>24826.0</td>\n",
       "    </tr>\n",
       "    <tr>\n",
       "      <th>190941</th>\n",
       "      <td>2015-06-29 23:10:59</td>\n",
       "      <td>24826.0</td>\n",
       "    </tr>\n",
       "    <tr>\n",
       "      <th>190942</th>\n",
       "      <td>2015-06-29 23:15:59</td>\n",
       "      <td>24826.0</td>\n",
       "    </tr>\n",
       "    <tr>\n",
       "      <th>190943</th>\n",
       "      <td>2015-06-29 23:20:59</td>\n",
       "      <td>24826.0</td>\n",
       "    </tr>\n",
       "    <tr>\n",
       "      <th>190944</th>\n",
       "      <td>2015-06-29 23:26:00</td>\n",
       "      <td>24826.0</td>\n",
       "    </tr>\n",
       "    <tr>\n",
       "      <th>190945</th>\n",
       "      <td>2015-06-29 23:31:00</td>\n",
       "      <td>24826.0</td>\n",
       "    </tr>\n",
       "    <tr>\n",
       "      <th>190946</th>\n",
       "      <td>2015-06-29 23:36:00</td>\n",
       "      <td>24826.0</td>\n",
       "    </tr>\n",
       "    <tr>\n",
       "      <th>190947</th>\n",
       "      <td>2015-06-29 23:41:00</td>\n",
       "      <td>24826.0</td>\n",
       "    </tr>\n",
       "    <tr>\n",
       "      <th>190948</th>\n",
       "      <td>2015-06-29 23:46:00</td>\n",
       "      <td>24826.0</td>\n",
       "    </tr>\n",
       "    <tr>\n",
       "      <th>190949</th>\n",
       "      <td>2015-06-29 23:51:01</td>\n",
       "      <td>24826.0</td>\n",
       "    </tr>\n",
       "    <tr>\n",
       "      <th>190950</th>\n",
       "      <td>2015-06-29 23:56:10</td>\n",
       "      <td>24826.0</td>\n",
       "    </tr>\n",
       "    <tr>\n",
       "      <th>190951</th>\n",
       "      <td>2015-06-30 00:01:10</td>\n",
       "      <td>24826.0</td>\n",
       "    </tr>\n",
       "    <tr>\n",
       "      <th>190952</th>\n",
       "      <td>2015-06-30 00:06:11</td>\n",
       "      <td>24826.0</td>\n",
       "    </tr>\n",
       "    <tr>\n",
       "      <th>190953</th>\n",
       "      <td>2015-06-30 00:11:11</td>\n",
       "      <td>24826.0</td>\n",
       "    </tr>\n",
       "    <tr>\n",
       "      <th>190954</th>\n",
       "      <td>2015-06-30 00:16:11</td>\n",
       "      <td>24826.0</td>\n",
       "    </tr>\n",
       "    <tr>\n",
       "      <th>190955</th>\n",
       "      <td>2015-06-30 00:21:11</td>\n",
       "      <td>24826.0</td>\n",
       "    </tr>\n",
       "    <tr>\n",
       "      <th>190956</th>\n",
       "      <td>2015-06-30 00:26:12</td>\n",
       "      <td>24826.0</td>\n",
       "    </tr>\n",
       "    <tr>\n",
       "      <th>190957</th>\n",
       "      <td>2015-06-30 00:31:12</td>\n",
       "      <td>24826.0</td>\n",
       "    </tr>\n",
       "    <tr>\n",
       "      <th>190958</th>\n",
       "      <td>2015-06-30 00:36:26</td>\n",
       "      <td>24826.0</td>\n",
       "    </tr>\n",
       "    <tr>\n",
       "      <th>190959</th>\n",
       "      <td>2015-06-30 00:41:32</td>\n",
       "      <td>24826.0</td>\n",
       "    </tr>\n",
       "    <tr>\n",
       "      <th>190960</th>\n",
       "      <td>2015-06-30 00:46:32</td>\n",
       "      <td>24826.0</td>\n",
       "    </tr>\n",
       "    <tr>\n",
       "      <th>190961</th>\n",
       "      <td>2015-06-30 00:51:32</td>\n",
       "      <td>24826.0</td>\n",
       "    </tr>\n",
       "    <tr>\n",
       "      <th>190962</th>\n",
       "      <td>2015-06-30 00:56:32</td>\n",
       "      <td>24826.0</td>\n",
       "    </tr>\n",
       "  </tbody>\n",
       "</table>\n",
       "<p>190963 rows × 2 columns</p>\n",
       "</div>"
      ],
      "text/plain": [
       "                        ts    value\n",
       "0      2013-05-15 10:37:23      0.0\n",
       "1      2013-05-15 10:42:30      0.0\n",
       "2      2013-05-15 10:47:30      0.0\n",
       "3      2013-05-15 10:52:30      0.0\n",
       "4      2013-05-15 10:57:31      0.0\n",
       "5      2013-05-15 11:02:41      0.0\n",
       "6      2013-05-15 11:07:41      0.0\n",
       "7      2013-05-15 11:12:41      0.0\n",
       "8      2013-05-15 11:17:41      0.0\n",
       "9      2013-05-15 11:22:41      0.0\n",
       "10     2013-05-15 11:27:41      0.0\n",
       "11     2013-05-15 11:32:51      0.0\n",
       "12     2013-05-15 11:37:51      0.0\n",
       "13     2013-05-15 11:42:51      0.0\n",
       "14     2013-05-15 11:47:51      0.0\n",
       "15     2013-05-15 11:52:51      0.0\n",
       "16     2013-05-15 11:57:51      0.0\n",
       "17     2013-05-15 12:02:51      0.0\n",
       "18     2013-05-15 12:07:51      0.0\n",
       "19     2013-05-15 12:12:51      0.0\n",
       "20     2013-05-15 12:17:51      0.0\n",
       "21     2013-05-15 12:22:51      0.0\n",
       "22     2013-05-15 12:28:01      0.0\n",
       "23     2013-05-15 12:33:01      0.0\n",
       "24     2013-05-15 12:38:01      0.0\n",
       "25     2013-05-15 12:43:01      0.0\n",
       "26     2013-05-15 12:48:01      0.0\n",
       "27     2013-05-15 12:53:01      0.0\n",
       "28     2013-05-15 12:58:01      0.0\n",
       "29     2013-05-15 13:03:01      0.0\n",
       "...                    ...      ...\n",
       "190933 2015-06-29 22:30:57  24826.0\n",
       "190934 2015-06-29 22:35:57  24826.0\n",
       "190935 2015-06-29 22:40:58  24826.0\n",
       "190936 2015-06-29 22:45:59  24826.0\n",
       "190937 2015-06-29 22:50:59  24826.0\n",
       "190938 2015-06-29 22:55:59  24826.0\n",
       "190939 2015-06-29 23:00:59  24826.0\n",
       "190940 2015-06-29 23:05:59  24826.0\n",
       "190941 2015-06-29 23:10:59  24826.0\n",
       "190942 2015-06-29 23:15:59  24826.0\n",
       "190943 2015-06-29 23:20:59  24826.0\n",
       "190944 2015-06-29 23:26:00  24826.0\n",
       "190945 2015-06-29 23:31:00  24826.0\n",
       "190946 2015-06-29 23:36:00  24826.0\n",
       "190947 2015-06-29 23:41:00  24826.0\n",
       "190948 2015-06-29 23:46:00  24826.0\n",
       "190949 2015-06-29 23:51:01  24826.0\n",
       "190950 2015-06-29 23:56:10  24826.0\n",
       "190951 2015-06-30 00:01:10  24826.0\n",
       "190952 2015-06-30 00:06:11  24826.0\n",
       "190953 2015-06-30 00:11:11  24826.0\n",
       "190954 2015-06-30 00:16:11  24826.0\n",
       "190955 2015-06-30 00:21:11  24826.0\n",
       "190956 2015-06-30 00:26:12  24826.0\n",
       "190957 2015-06-30 00:31:12  24826.0\n",
       "190958 2015-06-30 00:36:26  24826.0\n",
       "190959 2015-06-30 00:41:32  24826.0\n",
       "190960 2015-06-30 00:46:32  24826.0\n",
       "190961 2015-06-30 00:51:32  24826.0\n",
       "190962 2015-06-30 00:56:32  24826.0\n",
       "\n",
       "[190963 rows x 2 columns]"
      ]
     },
     "execution_count": 4,
     "metadata": {},
     "output_type": "execute_result"
    }
   ],
   "source": [
    "df = pd.DataFrame()\n",
    "\n",
    "df['ts'] = data['ts'][:, 0]\n",
    "df['value'] = data['value']\n",
    "df"
   ]
  },
  {
   "cell_type": "code",
   "execution_count": 5,
   "metadata": {
    "collapsed": false
   },
   "outputs": [
    {
     "data": {
      "image/png": "[encoded data removed]",
      "text/plain": [
       "<matplotlib.figure.Figure at 0x103ea87d0>"
      ]
     },
     "metadata": {},
     "output_type": "display_data"
    }
   ],
   "source": [
    "Graph.Show.raw_data2graph(sensor_data_path)"
   ]
  },
  {
   "cell_type": "markdown",
   "metadata": {},
   "source": [
    "---\n",
    "### 01-02. Unify the data length "
   ]
  },
  {
   "cell_type": "code",
   "execution_count": 6,
   "metadata": {
    "collapsed": false
   },
   "outputs": [
    {
     "name": "stdout",
     "output_type": "stream",
     "text": [
      "Unify Data Length\n",
      "scan start_ts & end_ts:  VTT_GW1_HA10_VM_EP_KV_K.bin\n",
      "scan start_ts & end_ts:  VTT_GW1_HA10_VM_KV_K.bin\n",
      "scan start_ts & end_ts:  VTT_GW1_HA10_VM_KV_KAM.bin\n",
      "scan start_ts & end_ts:  VTT_GW1_HA11_VM_EP_KV_K.bin\n",
      "scan start_ts & end_ts:  VTT_GW1_HA11_VM_KV_K.bin\n",
      "scan start_ts & end_ts:  VTT_GW1_HA11_VM_KV_KAM.bin\n",
      "scan start_ts & end_ts:  VTT_GW1_KIINT_KV_KAM.bin\n",
      "scan start_ts & end_ts:  VTT_GW1_KIINT_KV_KO_KAM.bin\n",
      "scan start_ts & end_ts:  VTT_GW1_TAVOIT_KV_KAM.bin\n",
      "scan start_ts & end_ts:  VTT_GW2_HA31_VM_KV_K.bin\n",
      "scan start_ts & end_ts:  VTT_GW2_HA35_VM_EP_KV_K.bin\n",
      "scan start_ts & end_ts:  VTT_GW2_HA35_VM_KV_K.bin\n",
      "scan start_ts & end_ts:  VTT_GW2_HA35_VM_KV_KAM.bin\n",
      "scan start_ts & end_ts:  VTT_GW2_HA4_VM_EP_KV_K.bin\n",
      "scan start_ts & end_ts:  VTT_GW2_HA4_VM_KV_K.bin\n",
      "scan start_ts & end_ts:  VTT_GW2_HA4_VM_KV_KAM.bin\n",
      "> start_ts: 2013-05-16 00:00:00 from VTT_GW2_HA4_VM_EP_KV_K.bin\n",
      "> end_ts: 2015-06-30 00:00:00 from VTT_GW1_HA11_VM_KV_K.bin\n",
      "unify data length:  VTT_GW1_HA10_VM_EP_KV_K.bin\n",
      "unify data length:  VTT_GW1_HA10_VM_KV_K.bin\n",
      "unify data length:  VTT_GW1_HA10_VM_KV_KAM.bin\n",
      "unify data length:  VTT_GW1_HA11_VM_EP_KV_K.bin\n",
      "unify data length:  VTT_GW1_HA11_VM_KV_K.bin\n",
      "unify data length:  VTT_GW1_HA11_VM_KV_KAM.bin\n",
      "unify data length:  VTT_GW1_KIINT_KV_KAM.bin\n",
      "unify data length:  VTT_GW1_KIINT_KV_KO_KAM.bin\n",
      "unify data length:  VTT_GW1_TAVOIT_KV_KAM.bin\n",
      "unify data length:  VTT_GW2_HA31_VM_KV_K.bin\n",
      "unify data length:  VTT_GW2_HA35_VM_EP_KV_K.bin\n",
      "unify data length:  VTT_GW2_HA35_VM_KV_K.bin\n",
      "unify data length:  VTT_GW2_HA35_VM_KV_KAM.bin\n",
      "unify data length:  VTT_GW2_HA4_VM_EP_KV_K.bin\n",
      "unify data length:  VTT_GW2_HA4_VM_KV_K.bin\n",
      "unify data length:  VTT_GW2_HA4_VM_KV_KAM.bin\n"
     ]
    }
   ],
   "source": [
    "Preprocess.unify_data_length()"
   ]
  },
  {
   "cell_type": "code",
   "execution_count": 7,
   "metadata": {
    "collapsed": false
   },
   "outputs": [
    {
     "data": {
      "text/plain": [
       "'/Users/JH/Documents/GitHub/EnergyData_jhyun/repository/length_unify/VTT_GW1_HA10_VM_EP_KV_K.bin'"
      ]
     },
     "execution_count": 7,
     "metadata": {},
     "output_type": "execute_result"
    }
   ],
   "source": [
    "sensor_data_path = os.path.join(GlobalParameter.RepositoryPath, GlobalParameter.UnifyDataLengthPath, file_name)\n",
    "sensor_data_path"
   ]
  },
  {
   "cell_type": "code",
   "execution_count": 8,
   "metadata": {
    "collapsed": false
   },
   "outputs": [
    {
     "data": {
      "text/plain": [
       "{'file_name': 'VTT_GW1_HA10_VM_EP_KV_K',\n",
       " 'ts': array([[datetime.datetime(2013, 5, 16, 0, 0), 0, 48, ..., 3, 16, 5],\n",
       "        [datetime.datetime(2013, 5, 16, 5, 48, 2), 2, 48, ..., 3, 16, 5],\n",
       "        [datetime.datetime(2013, 5, 16, 6, 48, 5), 5, 48, ..., 3, 16, 5],\n",
       "        ..., \n",
       "        [datetime.datetime(2015, 6, 29, 23, 46), 0, 46, ..., 0, 29, 6],\n",
       "        [datetime.datetime(2015, 6, 29, 23, 51, 1), 1, 51, ..., 0, 29, 6],\n",
       "        [datetime.datetime(2015, 6, 30, 0, 0), 10, 56, ..., 0, 29, 6]], dtype=object),\n",
       " 'value': array([     0.,      0.,      0., ...,  24826.,  24826.,  24826.])}"
      ]
     },
     "execution_count": 8,
     "metadata": {},
     "output_type": "execute_result"
    }
   ],
   "source": [
    "data = FileIO.Load.unpickling(sensor_data_path)\n",
    "data"
   ]
  },
  {
   "cell_type": "code",
   "execution_count": 9,
   "metadata": {
    "collapsed": false
   },
   "outputs": [],
   "source": [
    "df = pd.DataFrame()\n",
    "df['ts'] = data['ts'][:, 0]\n",
    "df['value'] = data['value']"
   ]
  },
  {
   "cell_type": "code",
   "execution_count": 10,
   "metadata": {
    "collapsed": false
   },
   "outputs": [
    {
     "data": {
      "text/plain": [
       "ts       2013-05-16 00:00:00\n",
       "value                      0\n",
       "Name: 0, dtype: object"
      ]
     },
     "execution_count": 10,
     "metadata": {},
     "output_type": "execute_result"
    }
   ],
   "source": [
    "df.iloc[0]"
   ]
  },
  {
   "cell_type": "code",
   "execution_count": 11,
   "metadata": {
    "collapsed": false
   },
   "outputs": [
    {
     "data": {
      "text/plain": [
       "ts       2015-06-30 00:00:00\n",
       "value                  24826\n",
       "Name: 190831, dtype: object"
      ]
     },
     "execution_count": 11,
     "metadata": {},
     "output_type": "execute_result"
    }
   ],
   "source": [
    "df.iloc[-1]"
   ]
  },
  {
   "cell_type": "markdown",
   "metadata": {},
   "source": [
    "---\n",
    "### 01-03. standarization of time stamp interval"
   ]
  },
  {
   "cell_type": "code",
   "execution_count": 12,
   "metadata": {
    "collapsed": false
   },
   "outputs": [
    {
     "data": {
      "text/plain": [
       "1440"
      ]
     },
     "execution_count": 12,
     "metadata": {},
     "output_type": "execute_result"
    }
   ],
   "source": [
    "GlobalParameter.TimeInterval  # minute"
   ]
  },
  {
   "cell_type": "code",
   "execution_count": 13,
   "metadata": {
    "collapsed": false
   },
   "outputs": [
    {
     "data": {
      "text/html": [
       "<div>\n",
       "<table border=\"1\" class=\"dataframe\">\n",
       "  <thead>\n",
       "    <tr style=\"text-align: right;\">\n",
       "      <th></th>\n",
       "      <th>ts</th>\n",
       "      <th>value</th>\n",
       "    </tr>\n",
       "  </thead>\n",
       "  <tbody>\n",
       "    <tr>\n",
       "      <th>0</th>\n",
       "      <td>2013-05-16</td>\n",
       "      <td>0.000000</td>\n",
       "    </tr>\n",
       "    <tr>\n",
       "      <th>1</th>\n",
       "      <td>2013-05-17</td>\n",
       "      <td>0.000000</td>\n",
       "    </tr>\n",
       "    <tr>\n",
       "      <th>2</th>\n",
       "      <td>2013-05-18</td>\n",
       "      <td>0.000000</td>\n",
       "    </tr>\n",
       "    <tr>\n",
       "      <th>3</th>\n",
       "      <td>2013-05-19</td>\n",
       "      <td>0.000000</td>\n",
       "    </tr>\n",
       "    <tr>\n",
       "      <th>4</th>\n",
       "      <td>2013-05-20</td>\n",
       "      <td>0.000000</td>\n",
       "    </tr>\n",
       "    <tr>\n",
       "      <th>5</th>\n",
       "      <td>2013-05-21</td>\n",
       "      <td>0.000000</td>\n",
       "    </tr>\n",
       "    <tr>\n",
       "      <th>6</th>\n",
       "      <td>2013-05-22</td>\n",
       "      <td>0.000000</td>\n",
       "    </tr>\n",
       "    <tr>\n",
       "      <th>7</th>\n",
       "      <td>2013-05-23</td>\n",
       "      <td>0.000000</td>\n",
       "    </tr>\n",
       "    <tr>\n",
       "      <th>8</th>\n",
       "      <td>2013-05-24</td>\n",
       "      <td>0.000000</td>\n",
       "    </tr>\n",
       "    <tr>\n",
       "      <th>9</th>\n",
       "      <td>2013-05-25</td>\n",
       "      <td>0.000000</td>\n",
       "    </tr>\n",
       "    <tr>\n",
       "      <th>10</th>\n",
       "      <td>2013-05-26</td>\n",
       "      <td>0.000000</td>\n",
       "    </tr>\n",
       "    <tr>\n",
       "      <th>11</th>\n",
       "      <td>2013-05-27</td>\n",
       "      <td>0.000000</td>\n",
       "    </tr>\n",
       "    <tr>\n",
       "      <th>12</th>\n",
       "      <td>2013-05-28</td>\n",
       "      <td>0.000000</td>\n",
       "    </tr>\n",
       "    <tr>\n",
       "      <th>13</th>\n",
       "      <td>2013-05-29</td>\n",
       "      <td>0.000000</td>\n",
       "    </tr>\n",
       "    <tr>\n",
       "      <th>14</th>\n",
       "      <td>2013-05-30</td>\n",
       "      <td>0.000000</td>\n",
       "    </tr>\n",
       "    <tr>\n",
       "      <th>15</th>\n",
       "      <td>2013-05-31</td>\n",
       "      <td>0.000000</td>\n",
       "    </tr>\n",
       "    <tr>\n",
       "      <th>16</th>\n",
       "      <td>2013-06-01</td>\n",
       "      <td>0.000000</td>\n",
       "    </tr>\n",
       "    <tr>\n",
       "      <th>17</th>\n",
       "      <td>2013-06-02</td>\n",
       "      <td>0.000000</td>\n",
       "    </tr>\n",
       "    <tr>\n",
       "      <th>18</th>\n",
       "      <td>2013-06-03</td>\n",
       "      <td>0.000000</td>\n",
       "    </tr>\n",
       "    <tr>\n",
       "      <th>19</th>\n",
       "      <td>2013-06-04</td>\n",
       "      <td>0.000000</td>\n",
       "    </tr>\n",
       "    <tr>\n",
       "      <th>20</th>\n",
       "      <td>2013-06-05</td>\n",
       "      <td>0.000000</td>\n",
       "    </tr>\n",
       "    <tr>\n",
       "      <th>21</th>\n",
       "      <td>2013-06-06</td>\n",
       "      <td>0.000000</td>\n",
       "    </tr>\n",
       "    <tr>\n",
       "      <th>22</th>\n",
       "      <td>2013-06-07</td>\n",
       "      <td>0.000000</td>\n",
       "    </tr>\n",
       "    <tr>\n",
       "      <th>23</th>\n",
       "      <td>2013-06-08</td>\n",
       "      <td>0.000000</td>\n",
       "    </tr>\n",
       "    <tr>\n",
       "      <th>24</th>\n",
       "      <td>2013-06-09</td>\n",
       "      <td>0.000000</td>\n",
       "    </tr>\n",
       "    <tr>\n",
       "      <th>25</th>\n",
       "      <td>2013-06-10</td>\n",
       "      <td>0.000000</td>\n",
       "    </tr>\n",
       "    <tr>\n",
       "      <th>26</th>\n",
       "      <td>2013-06-11</td>\n",
       "      <td>0.000000</td>\n",
       "    </tr>\n",
       "    <tr>\n",
       "      <th>27</th>\n",
       "      <td>2013-06-12</td>\n",
       "      <td>0.000000</td>\n",
       "    </tr>\n",
       "    <tr>\n",
       "      <th>28</th>\n",
       "      <td>2013-06-13</td>\n",
       "      <td>0.000000</td>\n",
       "    </tr>\n",
       "    <tr>\n",
       "      <th>29</th>\n",
       "      <td>2013-06-14</td>\n",
       "      <td>0.000000</td>\n",
       "    </tr>\n",
       "    <tr>\n",
       "      <th>...</th>\n",
       "      <td>...</td>\n",
       "      <td>...</td>\n",
       "    </tr>\n",
       "    <tr>\n",
       "      <th>746</th>\n",
       "      <td>2015-06-01</td>\n",
       "      <td>23583.750000</td>\n",
       "    </tr>\n",
       "    <tr>\n",
       "      <th>747</th>\n",
       "      <td>2015-06-02</td>\n",
       "      <td>23665.203704</td>\n",
       "    </tr>\n",
       "    <tr>\n",
       "      <th>748</th>\n",
       "      <td>2015-06-03</td>\n",
       "      <td>23687.000000</td>\n",
       "    </tr>\n",
       "    <tr>\n",
       "      <th>749</th>\n",
       "      <td>2015-06-04</td>\n",
       "      <td>23695.268966</td>\n",
       "    </tr>\n",
       "    <tr>\n",
       "      <th>750</th>\n",
       "      <td>2015-06-05</td>\n",
       "      <td>23748.190813</td>\n",
       "    </tr>\n",
       "    <tr>\n",
       "      <th>751</th>\n",
       "      <td>2015-06-06</td>\n",
       "      <td>23789.027682</td>\n",
       "    </tr>\n",
       "    <tr>\n",
       "      <th>752</th>\n",
       "      <td>2015-06-07</td>\n",
       "      <td>23797.000000</td>\n",
       "    </tr>\n",
       "    <tr>\n",
       "      <th>753</th>\n",
       "      <td>2015-06-08</td>\n",
       "      <td>23797.000000</td>\n",
       "    </tr>\n",
       "    <tr>\n",
       "      <th>754</th>\n",
       "      <td>2015-06-09</td>\n",
       "      <td>23815.753086</td>\n",
       "    </tr>\n",
       "    <tr>\n",
       "      <th>755</th>\n",
       "      <td>2015-06-10</td>\n",
       "      <td>23874.613793</td>\n",
       "    </tr>\n",
       "    <tr>\n",
       "      <th>756</th>\n",
       "      <td>2015-06-11</td>\n",
       "      <td>23921.640569</td>\n",
       "    </tr>\n",
       "    <tr>\n",
       "      <th>757</th>\n",
       "      <td>2015-06-12</td>\n",
       "      <td>23961.418685</td>\n",
       "    </tr>\n",
       "    <tr>\n",
       "      <th>758</th>\n",
       "      <td>2015-06-13</td>\n",
       "      <td>24025.311419</td>\n",
       "    </tr>\n",
       "    <tr>\n",
       "      <th>759</th>\n",
       "      <td>2015-06-14</td>\n",
       "      <td>24043.000000</td>\n",
       "    </tr>\n",
       "    <tr>\n",
       "      <th>760</th>\n",
       "      <td>2015-06-15</td>\n",
       "      <td>24043.000000</td>\n",
       "    </tr>\n",
       "    <tr>\n",
       "      <th>761</th>\n",
       "      <td>2015-06-16</td>\n",
       "      <td>24043.000000</td>\n",
       "    </tr>\n",
       "    <tr>\n",
       "      <th>762</th>\n",
       "      <td>2015-06-17</td>\n",
       "      <td>24043.000000</td>\n",
       "    </tr>\n",
       "    <tr>\n",
       "      <th>763</th>\n",
       "      <td>2015-06-18</td>\n",
       "      <td>24043.000000</td>\n",
       "    </tr>\n",
       "    <tr>\n",
       "      <th>764</th>\n",
       "      <td>2015-06-19</td>\n",
       "      <td>24043.000000</td>\n",
       "    </tr>\n",
       "    <tr>\n",
       "      <th>765</th>\n",
       "      <td>2015-06-20</td>\n",
       "      <td>24043.000000</td>\n",
       "    </tr>\n",
       "    <tr>\n",
       "      <th>766</th>\n",
       "      <td>2015-06-21</td>\n",
       "      <td>24043.000000</td>\n",
       "    </tr>\n",
       "    <tr>\n",
       "      <th>767</th>\n",
       "      <td>2015-06-22</td>\n",
       "      <td>24043.000000</td>\n",
       "    </tr>\n",
       "    <tr>\n",
       "      <th>768</th>\n",
       "      <td>2015-06-23</td>\n",
       "      <td>24142.944615</td>\n",
       "    </tr>\n",
       "    <tr>\n",
       "      <th>769</th>\n",
       "      <td>2015-06-24</td>\n",
       "      <td>24291.344948</td>\n",
       "    </tr>\n",
       "    <tr>\n",
       "      <th>770</th>\n",
       "      <td>2015-06-25</td>\n",
       "      <td>24433.377163</td>\n",
       "    </tr>\n",
       "    <tr>\n",
       "      <th>771</th>\n",
       "      <td>2015-06-26</td>\n",
       "      <td>24559.519031</td>\n",
       "    </tr>\n",
       "    <tr>\n",
       "      <th>772</th>\n",
       "      <td>2015-06-27</td>\n",
       "      <td>24674.993080</td>\n",
       "    </tr>\n",
       "    <tr>\n",
       "      <th>773</th>\n",
       "      <td>2015-06-28</td>\n",
       "      <td>24795.250000</td>\n",
       "    </tr>\n",
       "    <tr>\n",
       "      <th>774</th>\n",
       "      <td>2015-06-29</td>\n",
       "      <td>24826.000000</td>\n",
       "    </tr>\n",
       "    <tr>\n",
       "      <th>775</th>\n",
       "      <td>2015-06-30</td>\n",
       "      <td>24826.000000</td>\n",
       "    </tr>\n",
       "  </tbody>\n",
       "</table>\n",
       "<p>776 rows × 2 columns</p>\n",
       "</div>"
      ],
      "text/plain": [
       "            ts         value\n",
       "0   2013-05-16      0.000000\n",
       "1   2013-05-17      0.000000\n",
       "2   2013-05-18      0.000000\n",
       "3   2013-05-19      0.000000\n",
       "4   2013-05-20      0.000000\n",
       "5   2013-05-21      0.000000\n",
       "6   2013-05-22      0.000000\n",
       "7   2013-05-23      0.000000\n",
       "8   2013-05-24      0.000000\n",
       "9   2013-05-25      0.000000\n",
       "10  2013-05-26      0.000000\n",
       "11  2013-05-27      0.000000\n",
       "12  2013-05-28      0.000000\n",
       "13  2013-05-29      0.000000\n",
       "14  2013-05-30      0.000000\n",
       "15  2013-05-31      0.000000\n",
       "16  2013-06-01      0.000000\n",
       "17  2013-06-02      0.000000\n",
       "18  2013-06-03      0.000000\n",
       "19  2013-06-04      0.000000\n",
       "20  2013-06-05      0.000000\n",
       "21  2013-06-06      0.000000\n",
       "22  2013-06-07      0.000000\n",
       "23  2013-06-08      0.000000\n",
       "24  2013-06-09      0.000000\n",
       "25  2013-06-10      0.000000\n",
       "26  2013-06-11      0.000000\n",
       "27  2013-06-12      0.000000\n",
       "28  2013-06-13      0.000000\n",
       "29  2013-06-14      0.000000\n",
       "..         ...           ...\n",
       "746 2015-06-01  23583.750000\n",
       "747 2015-06-02  23665.203704\n",
       "748 2015-06-03  23687.000000\n",
       "749 2015-06-04  23695.268966\n",
       "750 2015-06-05  23748.190813\n",
       "751 2015-06-06  23789.027682\n",
       "752 2015-06-07  23797.000000\n",
       "753 2015-06-08  23797.000000\n",
       "754 2015-06-09  23815.753086\n",
       "755 2015-06-10  23874.613793\n",
       "756 2015-06-11  23921.640569\n",
       "757 2015-06-12  23961.418685\n",
       "758 2015-06-13  24025.311419\n",
       "759 2015-06-14  24043.000000\n",
       "760 2015-06-15  24043.000000\n",
       "761 2015-06-16  24043.000000\n",
       "762 2015-06-17  24043.000000\n",
       "763 2015-06-18  24043.000000\n",
       "764 2015-06-19  24043.000000\n",
       "765 2015-06-20  24043.000000\n",
       "766 2015-06-21  24043.000000\n",
       "767 2015-06-22  24043.000000\n",
       "768 2015-06-23  24142.944615\n",
       "769 2015-06-24  24291.344948\n",
       "770 2015-06-25  24433.377163\n",
       "771 2015-06-26  24559.519031\n",
       "772 2015-06-27  24674.993080\n",
       "773 2015-06-28  24795.250000\n",
       "774 2015-06-29  24826.000000\n",
       "775 2015-06-30  24826.000000\n",
       "\n",
       "[776 rows x 2 columns]"
      ]
     },
     "execution_count": 13,
     "metadata": {},
     "output_type": "execute_result"
    }
   ],
   "source": [
    "data = Preprocess.ts_scaling(data, time_interval=GlobalParameter.TimeInterval)\n",
    "\n",
    "df = pd.DataFrame()\n",
    "df['ts'] = data['ts']\n",
    "df['value'] = data['value']\n",
    "df"
   ]
  },
  {
   "cell_type": "code",
   "execution_count": 14,
   "metadata": {
    "collapsed": false
   },
   "outputs": [
    {
     "data": {
      "image/png": "[encoded data removed]",
      "text/plain": [
       "<matplotlib.figure.Figure at 0x10b500890>"
      ]
     },
     "metadata": {},
     "output_type": "display_data"
    }
   ],
   "source": [
    "Graph.Show.dictionary2graph(data)"
   ]
  },
  {
   "cell_type": "markdown",
   "metadata": {},
   "source": [
    "---\n",
    "### 01-04. value data interpolation"
   ]
  },
  {
   "cell_type": "code",
   "execution_count": 15,
   "metadata": {
    "collapsed": false
   },
   "outputs": [
    {
     "data": {
      "text/plain": [
       "82"
      ]
     },
     "execution_count": 15,
     "metadata": {},
     "output_type": "execute_result"
    }
   ],
   "source": [
    "nancounter = 0\n",
    "\n",
    "for line in data['value']:\n",
    "    if math.isnan(line):\n",
    "        nancounter += 1\n",
    "        \n",
    "nancounter"
   ]
  },
  {
   "cell_type": "code",
   "execution_count": 16,
   "metadata": {
    "collapsed": false
   },
   "outputs": [
    {
     "data": {
      "image/png": "[encoded data removed]",
      "text/plain": [
       "<matplotlib.figure.Figure at 0x10bc59c90>"
      ]
     },
     "metadata": {},
     "output_type": "display_data"
    }
   ],
   "source": [
    "data = Preprocess.interpolation(data)\n",
    "Graph.Show.dictionary2graph(data)"
   ]
  },
  {
   "cell_type": "code",
   "execution_count": 17,
   "metadata": {
    "collapsed": false
   },
   "outputs": [
    {
     "data": {
      "text/plain": [
       "0"
      ]
     },
     "execution_count": 17,
     "metadata": {},
     "output_type": "execute_result"
    }
   ],
   "source": [
    "nancounter = 0\n",
    "\n",
    "for line in data['value']:\n",
    "    if math.isnan(line):\n",
    "        nancounter += 1\n",
    "        \n",
    "nancounter"
   ]
  },
  {
   "cell_type": "markdown",
   "metadata": {},
   "source": [
    "---\n",
    "### 01-05. value data scaling"
   ]
  },
  {
   "cell_type": "code",
   "execution_count": 18,
   "metadata": {
    "collapsed": false
   },
   "outputs": [
    {
     "data": {
      "image/png": "[encoded data removed]",
      "text/plain": [
       "<matplotlib.figure.Figure at 0x10bc59910>"
      ]
     },
     "metadata": {},
     "output_type": "display_data"
    }
   ],
   "source": [
    "data = Preprocess.scaling(data)\n",
    "Graph.Show.dictionary2graph(data)"
   ]
  },
  {
   "cell_type": "markdown",
   "metadata": {},
   "source": [
    "---\n",
    "# 02. A Command line for Preprocess"
   ]
  },
  {
   "cell_type": "code",
   "execution_count": 19,
   "metadata": {
    "collapsed": false
   },
   "outputs": [
    {
     "name": "stdout",
     "output_type": "stream",
     "text": [
      "Unify Data Length\n",
      "scan start_ts & end_ts:  VTT_GW1_HA10_VM_EP_KV_K.bin\n",
      "scan start_ts & end_ts:  VTT_GW1_HA10_VM_KV_K.bin\n",
      "scan start_ts & end_ts:  VTT_GW1_HA10_VM_KV_KAM.bin\n",
      "scan start_ts & end_ts:  VTT_GW1_HA11_VM_EP_KV_K.bin\n",
      "scan start_ts & end_ts:  VTT_GW1_HA11_VM_KV_K.bin\n",
      "scan start_ts & end_ts:  VTT_GW1_HA11_VM_KV_KAM.bin\n",
      "scan start_ts & end_ts:  VTT_GW1_KIINT_KV_KAM.bin\n",
      "scan start_ts & end_ts:  VTT_GW1_KIINT_KV_KO_KAM.bin\n",
      "scan start_ts & end_ts:  VTT_GW1_TAVOIT_KV_KAM.bin\n",
      "scan start_ts & end_ts:  VTT_GW2_HA31_VM_KV_K.bin\n",
      "scan start_ts & end_ts:  VTT_GW2_HA35_VM_EP_KV_K.bin\n",
      "scan start_ts & end_ts:  VTT_GW2_HA35_VM_KV_K.bin\n",
      "scan start_ts & end_ts:  VTT_GW2_HA35_VM_KV_KAM.bin\n",
      "scan start_ts & end_ts:  VTT_GW2_HA4_VM_EP_KV_K.bin\n",
      "scan start_ts & end_ts:  VTT_GW2_HA4_VM_KV_K.bin\n",
      "scan start_ts & end_ts:  VTT_GW2_HA4_VM_KV_KAM.bin\n",
      "> start_ts: 2013-05-16 00:00:00 from VTT_GW2_HA4_VM_EP_KV_K.bin\n",
      "> end_ts: 2015-06-30 00:00:00 from VTT_GW1_HA11_VM_KV_K.bin\n",
      "unify data length:  VTT_GW1_HA10_VM_EP_KV_K.bin\n",
      "unify data length:  VTT_GW1_HA10_VM_KV_K.bin\n",
      "unify data length:  VTT_GW1_HA10_VM_KV_KAM.bin\n",
      "unify data length:  VTT_GW1_HA11_VM_EP_KV_K.bin\n",
      "unify data length:  VTT_GW1_HA11_VM_KV_K.bin\n",
      "unify data length:  VTT_GW1_HA11_VM_KV_KAM.bin\n",
      "unify data length:  VTT_GW1_KIINT_KV_KAM.bin\n",
      "unify data length:  VTT_GW1_KIINT_KV_KO_KAM.bin\n",
      "unify data length:  VTT_GW1_TAVOIT_KV_KAM.bin\n",
      "unify data length:  VTT_GW2_HA31_VM_KV_K.bin\n",
      "unify data length:  VTT_GW2_HA35_VM_EP_KV_K.bin\n",
      "unify data length:  VTT_GW2_HA35_VM_KV_K.bin\n",
      "unify data length:  VTT_GW2_HA35_VM_KV_KAM.bin\n",
      "unify data length:  VTT_GW2_HA4_VM_EP_KV_K.bin\n",
      "unify data length:  VTT_GW2_HA4_VM_KV_K.bin\n",
      "unify data length:  VTT_GW2_HA4_VM_KV_KAM.bin\n",
      "\n",
      "Refine Data\n",
      "refine: VTT_GW1_HA10_VM_EP_KV_K.bin\n",
      "refine: VTT_GW1_HA10_VM_KV_K.bin\n",
      "refine: VTT_GW1_HA10_VM_KV_KAM.bin\n",
      "refine: VTT_GW1_HA11_VM_EP_KV_K.bin\n",
      "refine: VTT_GW1_HA11_VM_KV_K.bin\n",
      "refine: VTT_GW1_HA11_VM_KV_KAM.bin\n",
      "refine: VTT_GW1_KIINT_KV_KAM.bin\n",
      "refine: VTT_GW1_KIINT_KV_KO_KAM.bin\n",
      "refine: VTT_GW1_TAVOIT_KV_KAM.bin\n",
      "refine: VTT_GW2_HA31_VM_KV_K.bin\n",
      "refine: VTT_GW2_HA35_VM_EP_KV_K.bin\n",
      "refine: VTT_GW2_HA35_VM_KV_K.bin\n",
      "refine: VTT_GW2_HA35_VM_KV_KAM.bin\n",
      "refine: VTT_GW2_HA4_VM_EP_KV_K.bin\n",
      "refine: VTT_GW2_HA4_VM_KV_K.bin\n",
      "refine: VTT_GW2_HA4_VM_KV_KAM.bin\n"
     ]
    },
    {
     "data": {
      "text/plain": [
       "'/Users/JH/Documents/GitHub/EnergyData_jhyun/repository/1440/fully_refined'"
      ]
     },
     "execution_count": 19,
     "metadata": {},
     "output_type": "execute_result"
    }
   ],
   "source": [
    "Preprocess.preprocess_data(time_interval=GlobalParameter, refined_type=GlobalParameter.FullyPreprocessedPath)"
   ]
  },
  {
   "cell_type": "code",
   "execution_count": null,
   "metadata": {
    "collapsed": true
   },
   "outputs": [],
   "source": []
  }
 ],
 "metadata": {
  "kernelspec": {
   "display_name": "Python 2",
   "language": "python",
   "name": "python2"
  },
  "language_info": {
   "codemirror_mode": {
    "name": "ipython",
    "version": 2
   },
   "file_extension": ".py",
   "mimetype": "text/x-python",
   "name": "python",
   "nbconvert_exporter": "python",
   "pygments_lexer": "ipython2",
   "version": "2.7.12"
  }
 },
 "nbformat": 4,
 "nbformat_minor": 0
}
