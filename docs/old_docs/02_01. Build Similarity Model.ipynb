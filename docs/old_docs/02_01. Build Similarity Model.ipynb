{
 "cells": [
  {
   "cell_type": "markdown",
   "metadata": {},
   "source": [
    "# Build & Save Similarity Model\n",
    "---"
   ]
  },
  {
   "cell_type": "markdown",
   "metadata": {},
   "source": [
    "### 개요\n",
    "* **Preprocessed_repository**로 부터 **preprocessing** 된 data를 불러와 각 data 사이 **유사도(similarity)**를 계산하여 하나의 **유사도 모델(similarity_model)**을 구성하여 반환/저장함\n",
    "\n",
    "---\n",
    "* 아래는 저장되어있는 preprocessed_data 사이 similarity를 계산하여 similarity_model을 구성/저장하는 과정임  \n",
    "\n",
    "<img src=\"https://raw.githubusercontent.com/jhyun0919/EnergyData_jhyun/master/docs/images/%EC%8A%A4%ED%81%AC%EB%A6%B0%EC%83%B7%202016-05-18%20%EC%98%A4%EC%A0%84%2010.26.43.jpg\" alt=\"Drawing\" style=\"width: 700px;\"/>"
   ]
  },
  {
   "cell_type": "markdown",
   "metadata": {},
   "source": [
    "---\n",
    "* similarity 계산과 save 과정에 필요한 module들을 import 하자"
   ]
  },
  {
   "cell_type": "code",
   "execution_count": 1,
   "metadata": {
    "collapsed": false
   },
   "outputs": [],
   "source": [
    "from utils import GlobalParameter\n",
    "from utils import FileIO\n",
    "from utils import Similarity\n",
    "import os"
   ]
  },
  {
   "cell_type": "markdown",
   "metadata": {},
   "source": [
    "---\n",
    "* 다음 과정은 repository의 경로를 지정하고 확인하는 과정이다"
   ]
  },
  {
   "cell_type": "code",
   "execution_count": 2,
   "metadata": {
    "collapsed": false
   },
   "outputs": [
    {
     "data": {
      "text/plain": [
       "'/Users/JH/Documents/GitHub/EnergyData_jhyun/repository/1440/fully_refined'"
      ]
     },
     "execution_count": 2,
     "metadata": {},
     "output_type": "execute_result"
    }
   ],
   "source": [
    "repository4prepodessed_path = os.path.join(GlobalParameter.RepositoryPath, \n",
    "                                           str(GlobalParameter.TimeInterval), \n",
    "                                           GlobalParameter.FullyPreprocessedPath)\n",
    "repository4prepodessed_path"
   ]
  },
  {
   "cell_type": "markdown",
   "metadata": {},
   "source": [
    "---\n",
    "* 지정된 경로 아래에 있는 preprocessed_data file들의 abs_path를 list로 만들어 반환하자"
   ]
  },
  {
   "cell_type": "code",
   "execution_count": 3,
   "metadata": {
    "collapsed": false
   },
   "outputs": [
    {
     "data": {
      "text/plain": [
       "['/Users/JH/Documents/GitHub/EnergyData_jhyun/repository/1440/fully_refined/VTT_GW1_HA10_VM_EP_KV_K.bin',\n",
       " '/Users/JH/Documents/GitHub/EnergyData_jhyun/repository/1440/fully_refined/VTT_GW1_HA10_VM_KV_K.bin',\n",
       " '/Users/JH/Documents/GitHub/EnergyData_jhyun/repository/1440/fully_refined/VTT_GW1_HA10_VM_KV_KAM.bin',\n",
       " '/Users/JH/Documents/GitHub/EnergyData_jhyun/repository/1440/fully_refined/VTT_GW1_HA11_VM_EP_KV_K.bin',\n",
       " '/Users/JH/Documents/GitHub/EnergyData_jhyun/repository/1440/fully_refined/VTT_GW1_HA11_VM_KV_K.bin',\n",
       " '/Users/JH/Documents/GitHub/EnergyData_jhyun/repository/1440/fully_refined/VTT_GW1_HA11_VM_KV_KAM.bin',\n",
       " '/Users/JH/Documents/GitHub/EnergyData_jhyun/repository/1440/fully_refined/VTT_GW2_HA4_VM_EP_KV_K.bin',\n",
       " '/Users/JH/Documents/GitHub/EnergyData_jhyun/repository/1440/fully_refined/VTT_GW2_HA4_VM_KV_K.bin',\n",
       " '/Users/JH/Documents/GitHub/EnergyData_jhyun/repository/1440/fully_refined/VTT_GW2_HA4_VM_KV_KAM.bin']"
      ]
     },
     "execution_count": 3,
     "metadata": {},
     "output_type": "execute_result"
    }
   ],
   "source": [
    "file_list = FileIO.Load.binary_file_list(repository4prepodessed_path)\n",
    "file_list"
   ]
  },
  {
   "cell_type": "markdown",
   "metadata": {},
   "source": [
    "---\n",
    "* file_list를 인자값으로 전달하여 **similarity_model**을 구성하고, \n",
    "    * 해당 모델(similarity_model)과 \n",
    "    * 저장된 경로(model_save_path)를 반환 받자"
   ]
  },
  {
   "cell_type": "code",
   "execution_count": 4,
   "metadata": {
    "collapsed": false
   },
   "outputs": [
    {
     "name": "stdout",
     "output_type": "stream",
     "text": [
      "calculating covariance\n",
      "\trun_time: 0.329840898514 sec\n",
      "calculating cosine_similarity\n",
      "\trun_time: 0.157385110855 sec\n",
      "calculating euclidean_distance\n",
      "\trun_time: 0.161708831787 sec\n",
      "calculating manhattan_distance\n",
      "\trun_time: 0.14306306839 sec\n",
      "calculating gradient_similarity\n",
      "\trun_time: 0.148790836334 sec\n",
      "calculating reversed_gradient_similarity\n",
      "\trun_time: 0.152146100998 sec\n"
     ]
    }
   ],
   "source": [
    "similarity_model, model_save_path = Similarity.Build.similarity_model(GlobalParameter.TimeInterval, \n",
    "                                                                      GlobalParameter.FullyPreprocessedPath)"
   ]
  },
  {
   "cell_type": "markdown",
   "metadata": {},
   "source": [
    "---\n",
    "* 반환 받은 model_save_path를 확인해보자"
   ]
  },
  {
   "cell_type": "code",
   "execution_count": 5,
   "metadata": {
    "collapsed": false
   },
   "outputs": [
    {
     "data": {
      "text/plain": [
       "'/Users/JH/Documents/GitHub/EnergyData_jhyun/repository/1440/fully_refined/similarity_model/similarity.bin'"
      ]
     },
     "execution_count": 5,
     "metadata": {},
     "output_type": "execute_result"
    }
   ],
   "source": [
    "model_save_path"
   ]
  },
  {
   "cell_type": "markdown",
   "metadata": {},
   "source": [
    "---\n",
    "* 반환 받은 similarity_model을 확인해보자"
   ]
  },
  {
   "cell_type": "code",
   "execution_count": 6,
   "metadata": {
    "collapsed": false
   },
   "outputs": [
    {
     "data": {
      "text/plain": [
       "{'cosine_similarity': array([[ 0.        ,  0.04554733,  1.81936264,  0.07844262,  0.08350343,\n",
       "          1.45751444,  0.33148332,  0.08350343,  2.52787661],\n",
       "        [ 0.04554733,  0.        ,  1.81683224,  0.12145954,  0.10121628,\n",
       "          1.46510566,  0.36943942,  0.0708514 ,  2.52787661],\n",
       "        [ 1.81936264,  1.81683224,  0.        ,  1.84466671,  1.8396059 ,\n",
       "          0.54403751,  1.93829177,  1.86237956,  2.52787661],\n",
       "        [ 0.07844262,  0.12145954,  1.84466671,  0.        ,  0.00506081,\n",
       "          1.42967996,  0.15435483,  0.05566895,  2.53040701],\n",
       "        [ 0.08350343,  0.10121628,  1.8396059 ,  0.00506081,  0.        ,\n",
       "          1.42461915,  0.15688523,  0.05060814,  2.53040701],\n",
       "        [ 1.45751444,  1.46510566,  0.54403751,  1.42967996,  1.42461915,\n",
       "          0.        ,  1.54101787,  1.45751444,  2.51522457],\n",
       "        [ 0.33148332,  0.36943942,  1.93829177,  0.15435483,  0.15688523,\n",
       "          1.54101787,  0.        ,  0.20749338,  2.53040701],\n",
       "        [ 0.08350343,  0.0708514 ,  1.86237956,  0.05566895,  0.05060814,\n",
       "          1.45751444,  0.20749338,  0.        ,  2.52787661],\n",
       "        [ 2.52787661,  2.52787661,  2.52787661,  2.53040701,  2.53040701,\n",
       "          2.51522457,  2.53040701,  2.52787661,  0.        ]]),\n",
       " 'covariance': array([[ 0.10981464,  1.88461259,  3.28111533,  1.86655591,  1.88227246,\n",
       "          3.30735225,  2.09996899,  1.92083406,  3.41030268],\n",
       "        [ 1.88461259,  0.1399092 ,  3.29415553,  1.90822784,  1.89557636,\n",
       "          3.37444243,  2.09304489,  1.90340021,  3.41225427],\n",
       "        [ 3.28111533,  3.29415553,  0.96759117,  3.27952731,  3.28124122,\n",
       "          2.7859469 ,  3.30038472,  3.3094249 ,  3.40369736],\n",
       "        [ 1.86655591,  1.90822784,  3.27952731,  0.00454181,  1.70824424,\n",
       "          3.23730648,  1.87208066,  1.7988169 ,  3.40953801],\n",
       "        [ 1.88227246,  1.89557636,  3.28124122,  1.70824424,  0.        ,\n",
       "          3.24639716,  1.86233294,  1.79612812,  3.40993463],\n",
       "        [ 3.30735225,  3.37444243,  2.7859469 ,  3.23730648,  3.24639716,\n",
       "          0.83880305,  3.22909087,  3.3065396 ,  3.40425919],\n",
       "        [ 2.09996899,  2.09304489,  3.30038472,  1.87208066,  1.86233294,\n",
       "          3.22909087,  0.06600969,  1.90932193,  3.40735266],\n",
       "        [ 1.92083406,  1.90340021,  3.3094249 ,  1.7988169 ,  1.79612812,\n",
       "          3.3065396 ,  1.90932193,  0.04120335,  3.41059309],\n",
       "        [ 3.41030268,  3.41225427,  3.40369736,  3.40953801,  3.40993463,\n",
       "          3.40425919,  3.40735266,  3.41059309,  1.68209314]]),\n",
       " 'euclidean_distance': array([[ 0.        ,  0.70288244,  2.65457661,  0.68304472,  0.69220987,\n",
       "          2.48622731,  1.37356627,  0.71536393,  2.73748502],\n",
       "        [ 0.70288244,  0.        ,  3.04837649,  1.07654312,  0.97735451,\n",
       "          2.86953551,  1.74559893,  0.79670462,  3.16824698],\n",
       "        [ 2.65457661,  3.04837649,  0.        ,  2.49955295,  2.57052255,\n",
       "          0.87780412,  2.17388871,  2.72747572,  1.19798133],\n",
       "        [ 0.68304472,  1.07654312,  2.49955295,  0.        ,  0.16798752,\n",
       "          2.31257187,  0.91434412,  0.61400463,  2.55249374],\n",
       "        [ 0.69220987,  0.97735451,  2.57052255,  0.16798752,  0.        ,\n",
       "          2.37829563,  0.97488233,  0.56088294,  2.63407562],\n",
       "        [ 2.48622731,  2.86953551,  0.87780412,  2.31257187,  2.37829563,\n",
       "          0.        ,  2.03743654,  2.5372386 ,  1.42102003],\n",
       "        [ 1.37356627,  1.74559893,  2.17388871,  0.91434412,  0.97488233,\n",
       "          2.03743654,  0.        ,  1.1904442 ,  2.12969099],\n",
       "        [ 0.71536393,  0.79670462,  2.72747572,  0.61400463,  0.56088294,\n",
       "          2.5372386 ,  1.1904442 ,  0.        ,  2.79573195],\n",
       "        [ 2.73748502,  3.16824698,  1.19798133,  2.55249374,  2.63407562,\n",
       "          1.42102003,  2.12969099,  2.79573195,  0.        ]]),\n",
       " 'file_list': array([ '/Users/JH/Documents/GitHub/EnergyData_jhyun/repository/1440/fully_refined/VTT_GW1_HA10_VM_EP_KV_K.bin',\n",
       "        '/Users/JH/Documents/GitHub/EnergyData_jhyun/repository/1440/fully_refined/VTT_GW1_HA10_VM_KV_K.bin',\n",
       "        '/Users/JH/Documents/GitHub/EnergyData_jhyun/repository/1440/fully_refined/VTT_GW1_HA10_VM_KV_KAM.bin',\n",
       "        '/Users/JH/Documents/GitHub/EnergyData_jhyun/repository/1440/fully_refined/VTT_GW1_HA11_VM_EP_KV_K.bin',\n",
       "        '/Users/JH/Documents/GitHub/EnergyData_jhyun/repository/1440/fully_refined/VTT_GW1_HA11_VM_KV_K.bin',\n",
       "        '/Users/JH/Documents/GitHub/EnergyData_jhyun/repository/1440/fully_refined/VTT_GW1_HA11_VM_KV_KAM.bin',\n",
       "        '/Users/JH/Documents/GitHub/EnergyData_jhyun/repository/1440/fully_refined/VTT_GW2_HA4_VM_EP_KV_K.bin',\n",
       "        '/Users/JH/Documents/GitHub/EnergyData_jhyun/repository/1440/fully_refined/VTT_GW2_HA4_VM_KV_K.bin',\n",
       "        '/Users/JH/Documents/GitHub/EnergyData_jhyun/repository/1440/fully_refined/VTT_GW2_HA4_VM_KV_KAM.bin'], \n",
       "       dtype='|S101'),\n",
       " 'gradient_similarity': array([[ 0.        ,  0.10607928,  1.90557234,  0.2342841 ,  0.26161339,\n",
       "          2.57107333,  0.27672352,  0.30158585,  0.41421799],\n",
       "        [ 0.10607928,  0.        ,  1.96181132,  0.27306162,  0.26477418,\n",
       "          2.63698741,  0.2897907 ,  0.29414642,  0.43345257],\n",
       "        [ 1.90557234,  1.96181132,  0.        ,  1.94585317,  1.9702915 ,\n",
       "          2.00374964,  1.87889834,  2.02868906,  1.96439392],\n",
       "        [ 0.2342841 ,  0.27306162,  1.94585317,  0.        ,  0.03981827,\n",
       "          2.5235458 ,  0.2203689 ,  0.28493387,  0.33330941],\n",
       "        [ 0.26161339,  0.26477418,  1.9702915 ,  0.03981827,  0.        ,\n",
       "          2.54039051,  0.22468608,  0.27992286,  0.339631  ],\n",
       "        [ 2.57107333,  2.63698741,  2.00374964,  2.5235458 ,  2.54039051,\n",
       "          0.        ,  2.51267576,  2.64862838,  2.60302817],\n",
       "        [ 0.27672352,  0.2897907 ,  1.87889834,  0.2203689 ,  0.22468608,\n",
       "          2.51267576,  0.        ,  0.20055613,  0.23925656],\n",
       "        [ 0.30158585,  0.29414642,  2.02868906,  0.28493387,  0.27992286,\n",
       "          2.64862838,  0.20055613,  0.        ,  0.43071578],\n",
       "        [ 0.41421799,  0.43345257,  1.96439392,  0.33330941,  0.339631  ,\n",
       "          2.60302817,  0.23925656,  0.43071578,  0.        ]]),\n",
       " 'manhattan_distance': array([[ 0.        ,  0.70627029,  2.57022038,  0.71509852,  0.76243156,\n",
       "          2.21051041,  1.28946156,  0.8065271 ,  2.84866209],\n",
       "        [ 0.70627029,  0.        ,  3.26769381,  1.25103092,  1.15184947,\n",
       "          2.89616912,  1.88940793,  0.90807035,  3.55488388],\n",
       "        [ 2.57022038,  3.26769381,  0.        ,  2.23965358,  2.37931085,\n",
       "          0.73867091,  1.60578338,  2.67418819,  0.4323297 ],\n",
       "        [ 0.71509852,  1.25103092,  2.23965358,  0.        ,  0.14254677,\n",
       "          1.96381328,  0.88244993,  0.60381711,  2.46673463],\n",
       "        [ 0.76243156,  1.15184947,  2.37931085,  0.14254677,  0.        ,\n",
       "          2.09683012,  1.00890621,  0.55459577,  2.6092757 ],\n",
       "        [ 2.21051041,  2.89616912,  0.73867091,  1.96381328,  2.09683012,\n",
       "          0.        ,  1.53690603,  2.42181474,  0.90401707],\n",
       "        [ 1.28946156,  1.88940793,  1.60578338,  0.88244993,  1.00890621,\n",
       "          1.53690603,  0.        ,  1.22975758,  1.6799263 ],\n",
       "        [ 0.8065271 ,  0.90807035,  2.67418819,  0.60381711,  0.55459577,\n",
       "          2.42181474,  1.22975758,  0.        ,  2.90935871],\n",
       "        [ 2.84866209,  3.55488388,  0.4323297 ,  2.46673463,  2.6092757 ,\n",
       "          0.90401707,  1.6799263 ,  2.90935871,  0.        ]]),\n",
       " 'reversed_gradient_similarity': array([[ 0.53833599,  0.55584057,  1.80892376,  0.46502679,  0.47076829,\n",
       "          2.37400675,  0.37792398,  0.55198957,  0.3757184 ],\n",
       "        [ 0.55584057,  0.57338017,  1.83258995,  0.48253137,  0.48827288,\n",
       "          2.38888565,  0.39546357,  0.56938912,  0.39297792],\n",
       "        [ 1.80892376,  1.83258995,  3.35408843,  1.78231679,  1.79057895,\n",
       "          3.5933761 ,  1.6972095 ,  1.83395531,  1.77275928],\n",
       "        [ 0.46502679,  0.48253137,  1.78231679,  0.39168258,  0.39742408,\n",
       "          2.31935744,  0.30594513,  0.47987068,  0.30268927],\n",
       "        [ 0.47076829,  0.48827288,  1.79057895,  0.39742408,  0.40316559,\n",
       "          2.33133057,  0.31165162,  0.4856822 ,  0.30839577],\n",
       "        [ 2.37400675,  2.38888565,  3.5933761 ,  2.31935744,  2.33133057,\n",
       "          4.51712803,  2.27321535,  2.40337944,  2.35951295],\n",
       "        [ 0.37792398,  0.39546357,  1.6972095 ,  0.30594513,  0.31165162,\n",
       "          2.27321535,  0.22041773,  0.39427326,  0.21614661],\n",
       "        [ 0.55198957,  0.56938912,  1.83395531,  0.47987068,  0.4856822 ,\n",
       "          2.40337944,  0.39427326,  0.56837386,  0.39129748],\n",
       "        [ 0.3757184 ,  0.39297792,  1.77275928,  0.30268927,  0.30839577,\n",
       "          2.35951295,  0.21614661,  0.39129748,  0.2142211 ]])}"
      ]
     },
     "execution_count": 6,
     "metadata": {},
     "output_type": "execute_result"
    }
   ],
   "source": [
    "similarity_model"
   ]
  },
  {
   "cell_type": "markdown",
   "metadata": {
    "collapsed": true
   },
   "source": [
    "---\n",
    "### Similarity Model  \n",
    "\n",
    "* **similarity_model**의 구성\n",
    "    * file_list\n",
    "    * cosine_similarity\n",
    "    * euclidean_distance\n",
    "    * manhatton_distance\n",
    "    * gradient_similarity\n",
    "    * reversed_gradient_similarity"
   ]
  },
  {
   "cell_type": "markdown",
   "metadata": {},
   "source": [
    "---\n",
    "* **file_list**\n",
    "    * preprocessed_repository 아래에 있는 data file의 abs_path를 list로 관리하는 항목임임\n",
    "        * 각 file의 list_idx는 차후 similarity_matrix에서 row와 column의 idx와 일치하게 됨"
   ]
  },
  {
   "cell_type": "code",
   "execution_count": 7,
   "metadata": {
    "collapsed": false
   },
   "outputs": [
    {
     "data": {
      "text/plain": [
       "array([ '/Users/JH/Documents/GitHub/EnergyData_jhyun/repository/1440/fully_refined/VTT_GW1_HA10_VM_EP_KV_K.bin',\n",
       "       '/Users/JH/Documents/GitHub/EnergyData_jhyun/repository/1440/fully_refined/VTT_GW1_HA10_VM_KV_K.bin',\n",
       "       '/Users/JH/Documents/GitHub/EnergyData_jhyun/repository/1440/fully_refined/VTT_GW1_HA10_VM_KV_KAM.bin',\n",
       "       '/Users/JH/Documents/GitHub/EnergyData_jhyun/repository/1440/fully_refined/VTT_GW1_HA11_VM_EP_KV_K.bin',\n",
       "       '/Users/JH/Documents/GitHub/EnergyData_jhyun/repository/1440/fully_refined/VTT_GW1_HA11_VM_KV_K.bin',\n",
       "       '/Users/JH/Documents/GitHub/EnergyData_jhyun/repository/1440/fully_refined/VTT_GW1_HA11_VM_KV_KAM.bin',\n",
       "       '/Users/JH/Documents/GitHub/EnergyData_jhyun/repository/1440/fully_refined/VTT_GW2_HA4_VM_EP_KV_K.bin',\n",
       "       '/Users/JH/Documents/GitHub/EnergyData_jhyun/repository/1440/fully_refined/VTT_GW2_HA4_VM_KV_K.bin',\n",
       "       '/Users/JH/Documents/GitHub/EnergyData_jhyun/repository/1440/fully_refined/VTT_GW2_HA4_VM_KV_KAM.bin'], \n",
       "      dtype='|S101')"
      ]
     },
     "execution_count": 7,
     "metadata": {},
     "output_type": "execute_result"
    }
   ],
   "source": [
    "similarity_model['file_list']"
   ]
  },
  {
   "cell_type": "markdown",
   "metadata": {},
   "source": [
    "---\n",
    "* **covariance**\n",
    "    * 각 data 사이 **covariance**를 계산하여 해당 유사도(similarity)를 **symmetric matrix**로 구성"
   ]
  },
  {
   "cell_type": "code",
   "execution_count": 8,
   "metadata": {
    "collapsed": false
   },
   "outputs": [
    {
     "data": {
      "text/plain": [
       "array([[ 0.10981464,  1.88461259,  3.28111533,  1.86655591,  1.88227246,\n",
       "         3.30735225,  2.09996899,  1.92083406,  3.41030268],\n",
       "       [ 1.88461259,  0.1399092 ,  3.29415553,  1.90822784,  1.89557636,\n",
       "         3.37444243,  2.09304489,  1.90340021,  3.41225427],\n",
       "       [ 3.28111533,  3.29415553,  0.96759117,  3.27952731,  3.28124122,\n",
       "         2.7859469 ,  3.30038472,  3.3094249 ,  3.40369736],\n",
       "       [ 1.86655591,  1.90822784,  3.27952731,  0.00454181,  1.70824424,\n",
       "         3.23730648,  1.87208066,  1.7988169 ,  3.40953801],\n",
       "       [ 1.88227246,  1.89557636,  3.28124122,  1.70824424,  0.        ,\n",
       "         3.24639716,  1.86233294,  1.79612812,  3.40993463],\n",
       "       [ 3.30735225,  3.37444243,  2.7859469 ,  3.23730648,  3.24639716,\n",
       "         0.83880305,  3.22909087,  3.3065396 ,  3.40425919],\n",
       "       [ 2.09996899,  2.09304489,  3.30038472,  1.87208066,  1.86233294,\n",
       "         3.22909087,  0.06600969,  1.90932193,  3.40735266],\n",
       "       [ 1.92083406,  1.90340021,  3.3094249 ,  1.7988169 ,  1.79612812,\n",
       "         3.3065396 ,  1.90932193,  0.04120335,  3.41059309],\n",
       "       [ 3.41030268,  3.41225427,  3.40369736,  3.40953801,  3.40993463,\n",
       "         3.40425919,  3.40735266,  3.41059309,  1.68209314]])"
      ]
     },
     "execution_count": 8,
     "metadata": {},
     "output_type": "execute_result"
    }
   ],
   "source": [
    "similarity_model['covariance']"
   ]
  },
  {
   "cell_type": "markdown",
   "metadata": {},
   "source": [
    "---\n",
    "* **cosine_similarity**\n",
    "    * 각 data 사이 **cosine simialrity**를 계산하여 해당 유사도(similarity)를 **symmetric matrix**로 구성"
   ]
  },
  {
   "cell_type": "code",
   "execution_count": 9,
   "metadata": {
    "collapsed": false
   },
   "outputs": [
    {
     "data": {
      "text/plain": [
       "array([[ 0.        ,  0.04554733,  1.81936264,  0.07844262,  0.08350343,\n",
       "         1.45751444,  0.33148332,  0.08350343,  2.52787661],\n",
       "       [ 0.04554733,  0.        ,  1.81683224,  0.12145954,  0.10121628,\n",
       "         1.46510566,  0.36943942,  0.0708514 ,  2.52787661],\n",
       "       [ 1.81936264,  1.81683224,  0.        ,  1.84466671,  1.8396059 ,\n",
       "         0.54403751,  1.93829177,  1.86237956,  2.52787661],\n",
       "       [ 0.07844262,  0.12145954,  1.84466671,  0.        ,  0.00506081,\n",
       "         1.42967996,  0.15435483,  0.05566895,  2.53040701],\n",
       "       [ 0.08350343,  0.10121628,  1.8396059 ,  0.00506081,  0.        ,\n",
       "         1.42461915,  0.15688523,  0.05060814,  2.53040701],\n",
       "       [ 1.45751444,  1.46510566,  0.54403751,  1.42967996,  1.42461915,\n",
       "         0.        ,  1.54101787,  1.45751444,  2.51522457],\n",
       "       [ 0.33148332,  0.36943942,  1.93829177,  0.15435483,  0.15688523,\n",
       "         1.54101787,  0.        ,  0.20749338,  2.53040701],\n",
       "       [ 0.08350343,  0.0708514 ,  1.86237956,  0.05566895,  0.05060814,\n",
       "         1.45751444,  0.20749338,  0.        ,  2.52787661],\n",
       "       [ 2.52787661,  2.52787661,  2.52787661,  2.53040701,  2.53040701,\n",
       "         2.51522457,  2.53040701,  2.52787661,  0.        ]])"
      ]
     },
     "execution_count": 9,
     "metadata": {},
     "output_type": "execute_result"
    }
   ],
   "source": [
    "similarity_model['cosine_similarity']"
   ]
  },
  {
   "cell_type": "markdown",
   "metadata": {},
   "source": [
    "---\n",
    "* **euclidean_distance**\n",
    "    * 각 data 사이 **euclidean distance**를 계산하여 해당 유사도(similarity)를 **symmetric matrix**로 구성"
   ]
  },
  {
   "cell_type": "code",
   "execution_count": 10,
   "metadata": {
    "collapsed": false
   },
   "outputs": [
    {
     "data": {
      "text/plain": [
       "array([[ 0.        ,  0.70288244,  2.65457661,  0.68304472,  0.69220987,\n",
       "         2.48622731,  1.37356627,  0.71536393,  2.73748502],\n",
       "       [ 0.70288244,  0.        ,  3.04837649,  1.07654312,  0.97735451,\n",
       "         2.86953551,  1.74559893,  0.79670462,  3.16824698],\n",
       "       [ 2.65457661,  3.04837649,  0.        ,  2.49955295,  2.57052255,\n",
       "         0.87780412,  2.17388871,  2.72747572,  1.19798133],\n",
       "       [ 0.68304472,  1.07654312,  2.49955295,  0.        ,  0.16798752,\n",
       "         2.31257187,  0.91434412,  0.61400463,  2.55249374],\n",
       "       [ 0.69220987,  0.97735451,  2.57052255,  0.16798752,  0.        ,\n",
       "         2.37829563,  0.97488233,  0.56088294,  2.63407562],\n",
       "       [ 2.48622731,  2.86953551,  0.87780412,  2.31257187,  2.37829563,\n",
       "         0.        ,  2.03743654,  2.5372386 ,  1.42102003],\n",
       "       [ 1.37356627,  1.74559893,  2.17388871,  0.91434412,  0.97488233,\n",
       "         2.03743654,  0.        ,  1.1904442 ,  2.12969099],\n",
       "       [ 0.71536393,  0.79670462,  2.72747572,  0.61400463,  0.56088294,\n",
       "         2.5372386 ,  1.1904442 ,  0.        ,  2.79573195],\n",
       "       [ 2.73748502,  3.16824698,  1.19798133,  2.55249374,  2.63407562,\n",
       "         1.42102003,  2.12969099,  2.79573195,  0.        ]])"
      ]
     },
     "execution_count": 10,
     "metadata": {},
     "output_type": "execute_result"
    }
   ],
   "source": [
    "similarity_model['euclidean_distance']"
   ]
  },
  {
   "cell_type": "markdown",
   "metadata": {},
   "source": [
    "---\n",
    "* **manhatton_distance**\n",
    "    * 각 data 사이 **manhatton distance**를 계산하여 해당 유사도(similarity)를 **symmetric matrix**로 구성"
   ]
  },
  {
   "cell_type": "code",
   "execution_count": 11,
   "metadata": {
    "collapsed": false
   },
   "outputs": [
    {
     "data": {
      "text/plain": [
       "array([[ 0.        ,  0.70627029,  2.57022038,  0.71509852,  0.76243156,\n",
       "         2.21051041,  1.28946156,  0.8065271 ,  2.84866209],\n",
       "       [ 0.70627029,  0.        ,  3.26769381,  1.25103092,  1.15184947,\n",
       "         2.89616912,  1.88940793,  0.90807035,  3.55488388],\n",
       "       [ 2.57022038,  3.26769381,  0.        ,  2.23965358,  2.37931085,\n",
       "         0.73867091,  1.60578338,  2.67418819,  0.4323297 ],\n",
       "       [ 0.71509852,  1.25103092,  2.23965358,  0.        ,  0.14254677,\n",
       "         1.96381328,  0.88244993,  0.60381711,  2.46673463],\n",
       "       [ 0.76243156,  1.15184947,  2.37931085,  0.14254677,  0.        ,\n",
       "         2.09683012,  1.00890621,  0.55459577,  2.6092757 ],\n",
       "       [ 2.21051041,  2.89616912,  0.73867091,  1.96381328,  2.09683012,\n",
       "         0.        ,  1.53690603,  2.42181474,  0.90401707],\n",
       "       [ 1.28946156,  1.88940793,  1.60578338,  0.88244993,  1.00890621,\n",
       "         1.53690603,  0.        ,  1.22975758,  1.6799263 ],\n",
       "       [ 0.8065271 ,  0.90807035,  2.67418819,  0.60381711,  0.55459577,\n",
       "         2.42181474,  1.22975758,  0.        ,  2.90935871],\n",
       "       [ 2.84866209,  3.55488388,  0.4323297 ,  2.46673463,  2.6092757 ,\n",
       "         0.90401707,  1.6799263 ,  2.90935871,  0.        ]])"
      ]
     },
     "execution_count": 11,
     "metadata": {},
     "output_type": "execute_result"
    }
   ],
   "source": [
    "similarity_model['manhattan_distance']"
   ]
  },
  {
   "cell_type": "markdown",
   "metadata": {},
   "source": [
    "---\n",
    "* **gradient_similarity**\n",
    "    * 각 data 사이 **gradient simialrity**를 계산하여 해당 유사도(similarity)를 **symmetric matrix**로 구성"
   ]
  },
  {
   "cell_type": "code",
   "execution_count": 12,
   "metadata": {
    "collapsed": false
   },
   "outputs": [
    {
     "data": {
      "text/plain": [
       "array([[ 0.        ,  0.10607928,  1.90557234,  0.2342841 ,  0.26161339,\n",
       "         2.57107333,  0.27672352,  0.30158585,  0.41421799],\n",
       "       [ 0.10607928,  0.        ,  1.96181132,  0.27306162,  0.26477418,\n",
       "         2.63698741,  0.2897907 ,  0.29414642,  0.43345257],\n",
       "       [ 1.90557234,  1.96181132,  0.        ,  1.94585317,  1.9702915 ,\n",
       "         2.00374964,  1.87889834,  2.02868906,  1.96439392],\n",
       "       [ 0.2342841 ,  0.27306162,  1.94585317,  0.        ,  0.03981827,\n",
       "         2.5235458 ,  0.2203689 ,  0.28493387,  0.33330941],\n",
       "       [ 0.26161339,  0.26477418,  1.9702915 ,  0.03981827,  0.        ,\n",
       "         2.54039051,  0.22468608,  0.27992286,  0.339631  ],\n",
       "       [ 2.57107333,  2.63698741,  2.00374964,  2.5235458 ,  2.54039051,\n",
       "         0.        ,  2.51267576,  2.64862838,  2.60302817],\n",
       "       [ 0.27672352,  0.2897907 ,  1.87889834,  0.2203689 ,  0.22468608,\n",
       "         2.51267576,  0.        ,  0.20055613,  0.23925656],\n",
       "       [ 0.30158585,  0.29414642,  2.02868906,  0.28493387,  0.27992286,\n",
       "         2.64862838,  0.20055613,  0.        ,  0.43071578],\n",
       "       [ 0.41421799,  0.43345257,  1.96439392,  0.33330941,  0.339631  ,\n",
       "         2.60302817,  0.23925656,  0.43071578,  0.        ]])"
      ]
     },
     "execution_count": 12,
     "metadata": {},
     "output_type": "execute_result"
    }
   ],
   "source": [
    "similarity_model['gradient_similarity']"
   ]
  },
  {
   "cell_type": "markdown",
   "metadata": {},
   "source": [
    "---\n",
    "* **reversed_gradient_similarity**\n",
    "    * 각 data 사이 **reversed gradient simialrity**를 계산하여 해당 유사도(similarity)를 **symmetric matrix**로 구성"
   ]
  },
  {
   "cell_type": "code",
   "execution_count": 13,
   "metadata": {
    "collapsed": false,
    "scrolled": true
   },
   "outputs": [
    {
     "data": {
      "text/plain": [
       "array([[ 0.53833599,  0.55584057,  1.80892376,  0.46502679,  0.47076829,\n",
       "         2.37400675,  0.37792398,  0.55198957,  0.3757184 ],\n",
       "       [ 0.55584057,  0.57338017,  1.83258995,  0.48253137,  0.48827288,\n",
       "         2.38888565,  0.39546357,  0.56938912,  0.39297792],\n",
       "       [ 1.80892376,  1.83258995,  3.35408843,  1.78231679,  1.79057895,\n",
       "         3.5933761 ,  1.6972095 ,  1.83395531,  1.77275928],\n",
       "       [ 0.46502679,  0.48253137,  1.78231679,  0.39168258,  0.39742408,\n",
       "         2.31935744,  0.30594513,  0.47987068,  0.30268927],\n",
       "       [ 0.47076829,  0.48827288,  1.79057895,  0.39742408,  0.40316559,\n",
       "         2.33133057,  0.31165162,  0.4856822 ,  0.30839577],\n",
       "       [ 2.37400675,  2.38888565,  3.5933761 ,  2.31935744,  2.33133057,\n",
       "         4.51712803,  2.27321535,  2.40337944,  2.35951295],\n",
       "       [ 0.37792398,  0.39546357,  1.6972095 ,  0.30594513,  0.31165162,\n",
       "         2.27321535,  0.22041773,  0.39427326,  0.21614661],\n",
       "       [ 0.55198957,  0.56938912,  1.83395531,  0.47987068,  0.4856822 ,\n",
       "         2.40337944,  0.39427326,  0.56837386,  0.39129748],\n",
       "       [ 0.3757184 ,  0.39297792,  1.77275928,  0.30268927,  0.30839577,\n",
       "         2.35951295,  0.21614661,  0.39129748,  0.2142211 ]])"
      ]
     },
     "execution_count": 13,
     "metadata": {},
     "output_type": "execute_result"
    }
   ],
   "source": [
    "similarity_model['reversed_gradient_similarity']"
   ]
  },
  {
   "cell_type": "code",
   "execution_count": 14,
   "metadata": {
    "collapsed": false
   },
   "outputs": [
    {
     "name": "stdout",
     "output_type": "stream",
     "text": [
      "calculating covariance\n",
      "\trun_time: 0.256426095963 sec\n",
      "calculating cosine_similarity\n",
      "\trun_time: 0.242129087448 sec\n",
      "calculating euclidean_distance\n",
      "\trun_time: 0.308069944382 sec\n",
      "calculating manhattan_distance\n",
      "\trun_time: 0.301975011826 sec\n",
      "calculating gradient_similarity\n",
      "\trun_time: 0.283159017563 sec\n",
      "calculating reversed_gradient_similarity\n",
      "\trun_time: 0.157516002655 sec\n"
     ]
    }
   ],
   "source": [
    "_, _ = Similarity.Build.similarity_model(GlobalParameter.TimeInterval,GlobalParameter.SemiPreprocessedPath)"
   ]
  },
  {
   "cell_type": "code",
   "execution_count": 16,
   "metadata": {
    "collapsed": false
   },
   "outputs": [
    {
     "name": "stdout",
     "output_type": "stream",
     "text": [
      "calculating covariance\n",
      "\trun_time: 6.18096089363 sec\n",
      "calculating cosine_similarity\n",
      "\trun_time: 6.92706179619 sec\n",
      "calculating euclidean_distance\n",
      "\trun_time: 6.7218439579 sec\n",
      "calculating manhattan_distance\n",
      "\trun_time: 7.06306004524 sec\n",
      "calculating gradient_similarity\n",
      "\trun_time: 13.7114930153 sec\n",
      "calculating reversed_gradient_similarity\n",
      "\trun_time: 6.70810580254 sec\n",
      "\n",
      "calculating covariance\n",
      "\trun_time: 5.87729310989 sec\n",
      "calculating cosine_similarity\n",
      "\trun_time: 7.20353913307 sec\n",
      "calculating euclidean_distance\n",
      "\trun_time: 7.11362099648 sec\n",
      "calculating manhattan_distance\n",
      "\trun_time: 7.62489914894 sec\n",
      "calculating gradient_similarity\n",
      "\trun_time: 9.53638792038 sec\n",
      "calculating reversed_gradient_similarity\n",
      "\trun_time: 8.29822802544 sec\n"
     ]
    }
   ],
   "source": [
    "_, _ = Similarity.Build.similarity_model(30,GlobalParameter.FullyPreprocessedPath)\n",
    "print \n",
    "_, _ = Similarity.Build.similarity_model(30,GlobalParameter.SemiPreprocessedPath)"
   ]
  },
  {
   "cell_type": "code",
   "execution_count": 17,
   "metadata": {
    "collapsed": false
   },
   "outputs": [
    {
     "name": "stdout",
     "output_type": "stream",
     "text": [
      "calculating covariance\n",
      "\trun_time: 3.27749896049 sec\n",
      "calculating cosine_similarity\n",
      "\trun_time: 3.59292411804 sec\n",
      "calculating euclidean_distance\n",
      "\trun_time: 3.49220299721 sec\n",
      "calculating manhattan_distance\n",
      "\trun_time: 3.26843905449 sec\n",
      "calculating gradient_similarity\n",
      "\trun_time: 3.40499091148 sec\n",
      "calculating reversed_gradient_similarity\n",
      "\trun_time: 3.39924407005 sec\n",
      "\n",
      "calculating covariance\n",
      "\trun_time: 3.13887095451 sec\n",
      "calculating cosine_similarity\n",
      "\trun_time: 3.59147691727 sec\n",
      "calculating euclidean_distance\n",
      "\trun_time: 3.50006508827 sec\n",
      "calculating manhattan_distance\n",
      "\trun_time: 3.89899611473 sec\n",
      "calculating gradient_similarity\n",
      "\trun_time: 3.86369895935 sec\n",
      "calculating reversed_gradient_similarity\n",
      "\trun_time: 6.75289797783 sec\n"
     ]
    }
   ],
   "source": [
    "_, _ = Similarity.Build.similarity_model(60,GlobalParameter.FullyPreprocessedPath)\n",
    "print \n",
    "_, _ = Similarity.Build.similarity_model(60,GlobalParameter.SemiPreprocessedPath)"
   ]
  },
  {
   "cell_type": "code",
   "execution_count": null,
   "metadata": {
    "collapsed": true
   },
   "outputs": [],
   "source": []
  }
 ],
 "metadata": {
  "kernelspec": {
   "display_name": "Python 2",
   "language": "python",
   "name": "python2"
  },
  "language_info": {
   "codemirror_mode": {
    "name": "ipython",
    "version": 2
   },
   "file_extension": ".py",
   "mimetype": "text/x-python",
   "name": "python",
   "nbconvert_exporter": "python",
   "pygments_lexer": "ipython2",
   "version": "2.7.12"
  }
 },
 "nbformat": 4,
 "nbformat_minor": 0
}
